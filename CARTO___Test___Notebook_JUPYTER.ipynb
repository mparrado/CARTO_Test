{
 "cells": [
  {
   "cell_type": "markdown",
   "metadata": {},
   "source": [
    "# ------------------------------------------------------------------------------------------\n",
    "# TEST de CARTO\n",
    "\n",
    " 1. **ENUNCIADO** del TEST\n",
    " \n",
    " \n",
    " 2. **DATOS COMUNES :** librerías y ficheros\n",
    " \n",
    " \n",
    " 3. **SOLUCIÓN_A :** con `readlines()`\n",
    " \n",
    "  3.1 **LECTURA** del fichero con `readlines()`\n",
    "      \n",
    "  3.2. **CÁLCULOS** :\n",
    "    + **Número de líneas** del fichero\n",
    "    + **Media** del campo **tip_amount**   \n",
    "    \n",
    "  3.3. **RESULTADOS**\n",
    "  \n",
    "  \n",
    " 4. **SOLUCIÓN_B :** con DataFrames\n",
    " \n",
    "  4.1 **LECTURA** del fichero con `pd.read_csv()`\n",
    "      \n",
    "  4.2. **CÁLCULOS** :\n",
    "    + **Número de líneas** del fichero\n",
    "    + **Media** del campo **tip_amount**   \n",
    "    \n",
    "  4.3. **RESULTADOS**\n",
    "  \n",
    "  4.4. **OBSERVACIONES FINALES**\n",
    "    + OBSERVACIÓN_1 : **lectura** de un **subconjunto de columnas** del DataFrame\n",
    "    + OBSERVACIÓN_2 : `df.describe()` versus `df.mean()`\n",
    "\n",
    "\n",
    "# ------------------------------------------------------------------------------------------"
   ]
  },
  {
   "cell_type": "markdown",
   "metadata": {},
   "source": [
    "# 1)  ENUNCIADO del TEST"
   ]
  },
  {
   "cell_type": "markdown",
   "metadata": {},
   "source": [
    "What follows is a technical test for this job offer at CARTO : \n",
    "\n",
    "https://boards.greenhouse.io/cartodb/jobs/705852#.WSvORxOGPUI\n",
    "\n",
    "Build the following and make it run as fast as you possibly can using Python 3 (vanilla). The faster it runs, the more you will impress us!\n",
    "\n",
    "\n",
    "Your code should:\n",
    "\n",
    " + **Download** this ~2GB **file** : https://s3.amazonaws.com/carto-1000x/data/yellow_tripdata_2016-01.csv\n",
    " + **Count** the **lines** in the file\n",
    " + Calculate the **average** value of the **tip_amount** field.\n",
    "\n",
    "All of that in the most efficient way you can come up with.\n",
    "\n",
    "That's it. Make it fly!\n",
    "\n",
    "**NOTA :** enunciado ubicado en **GitHub** en : https://gist.github.com/jorgesancha/2a8027e5a89a2ea1693d63a45afdd8b6"
   ]
  },
  {
   "cell_type": "markdown",
   "metadata": {},
   "source": [
    "# 2) DATOS COMUNES : librerías y ficheros"
   ]
  },
  {
   "cell_type": "code",
   "execution_count": 1,
   "metadata": {},
   "outputs": [],
   "source": [
    "import time\n",
    "\n",
    "fichero = \"yellow_tripdata_2016-01.csv\""
   ]
  },
  {
   "cell_type": "markdown",
   "metadata": {},
   "source": [
    "# 3)  SOLUCIÓN_A : con `readlines()`\n",
    "\n",
    "Si sólo deseamos **leer** el fichero, **sin** ningún tipo de **procesamiento** (conversión de tipos, formateo de campos, ...), podemos leerlo con `readlines()`."
   ]
  },
  {
   "cell_type": "markdown",
   "metadata": {},
   "source": [
    "## 3.1)  LECTURA del fichero"
   ]
  },
  {
   "cell_type": "code",
   "execution_count": 2,
   "metadata": {},
   "outputs": [
    {
     "data": {
      "text/plain": [
       "9.023782014846802"
      ]
     },
     "execution_count": 2,
     "metadata": {},
     "output_type": "execute_result"
    }
   ],
   "source": [
    "#\n",
    "# LECTURA\n",
    "#\n",
    "t_ini = time.time()\n",
    "\n",
    "f = open(fichero, \"r\")              # \"r\" => se abre el archivo para LECTURA\n",
    "lineas_LISTA = f.readlines()\n",
    "f.close()\n",
    "\n",
    "t_fin = time.time()\n",
    "\n",
    "t_LECTURA_A = t_fin - t_ini\n",
    "t_LECTURA_A"
   ]
  },
  {
   "cell_type": "markdown",
   "metadata": {},
   "source": [
    "## 3.2)  CÁLCULOS"
   ]
  },
  {
   "cell_type": "markdown",
   "metadata": {},
   "source": [
    "### 3.2.1)  CÁLCULO : número de filas del fichero"
   ]
  },
  {
   "cell_type": "code",
   "execution_count": 3,
   "metadata": {},
   "outputs": [
    {
     "data": {
      "text/plain": [
       "0.0"
      ]
     },
     "execution_count": 3,
     "metadata": {},
     "output_type": "execute_result"
    }
   ],
   "source": [
    "t_ini = time.time()\n",
    "\n",
    "num_lineas_A = len(lineas_LISTA)\n",
    "\n",
    "t_fin = time.time()\n",
    "\n",
    "t_NUM_LINEAS_A = t_fin - t_ini\n",
    "t_NUM_LINEAS_A"
   ]
  },
  {
   "cell_type": "markdown",
   "metadata": {},
   "source": [
    "### 3.2.2)  CÁLCULO : media del campo tip_amount"
   ]
  },
  {
   "cell_type": "code",
   "execution_count": 4,
   "metadata": {},
   "outputs": [
    {
     "data": {
      "text/plain": [
       "15.2730872631073"
      ]
     },
     "execution_count": 4,
     "metadata": {},
     "output_type": "execute_result"
    }
   ],
   "source": [
    "t_ini = time.time()\n",
    "\n",
    "linea_titulos_STR          = lineas_LISTA[0]\n",
    "linea_titulos_LISTA_CAMPOS = (linea_titulos_STR.replace(\"\\n\", \"\")).split(\",\")\n",
    "lineas_no_titulos_LISTA    = lineas_LISTA[1:]\n",
    "\n",
    "ind_tip_amount = linea_titulos_LISTA_CAMPOS.index(\"tip_amount\")\n",
    "\n",
    "suma = 0\n",
    "for linea in lineas_no_titulos_LISTA:\n",
    "    linea_LISTA_CAMPOS = (linea.replace(\"\\n\", \"\")).split(\",\")\n",
    "    suma = suma + float(linea_LISTA_CAMPOS[ind_tip_amount])\n",
    "    \n",
    "media_A = suma / (num_lineas_A - 1)   # Para calcular la media descontamos la línea de títulos\n",
    "\n",
    "t_fin = time.time()\n",
    "\n",
    "t_MEDIA_A = t_fin - t_ini\n",
    "t_MEDIA_A"
   ]
  },
  {
   "cell_type": "markdown",
   "metadata": {},
   "source": [
    "## 3.3)  RESULTADOS"
   ]
  },
  {
   "cell_type": "code",
   "execution_count": 5,
   "metadata": {},
   "outputs": [
    {
     "name": "stdout",
     "output_type": "stream",
     "text": [
      "#--------------------------------------------------------------------------\n",
      "#  SOLUCIÓN_A (con readlines()) : \n",
      "#--------------------------------------------------------------------------\n",
      "\n",
      ">>> TIEMPOS :\n",
      "    * Tiempo total LECTURA del fichero :  9.023782014846802\n",
      "    * Tiempo total cálculo NUM. LÍNEAS :  0.0\n",
      "    * Tiempo total cálculo MEDIA       :  15.2730872631073\n",
      "\n",
      ">>> CÁLCULOS :\n",
      "    * Número de LÍNEAS   :  10906859\n",
      "    * MEDIA              :  1.7506631158122512\n"
     ]
    }
   ],
   "source": [
    "print (\"#--------------------------------------------------------------------------\")\n",
    "print (\"#  SOLUCIÓN_A (con readlines()) : \")\n",
    "print (\"#--------------------------------------------------------------------------\")\n",
    "print ()\n",
    "\n",
    "print (\">>> TIEMPOS :\")\n",
    "print (\"    * Tiempo total LECTURA del fichero : \", t_LECTURA_A)\n",
    "print (\"    * Tiempo total cálculo NUM. LÍNEAS : \", t_NUM_LINEAS_A)\n",
    "print (\"    * Tiempo total cálculo MEDIA       : \", t_MEDIA_A)\n",
    "\n",
    "print()\n",
    "print (\">>> CÁLCULOS :\")\n",
    "print (\"    * Número de LÍNEAS   : \", num_lineas_A)\n",
    "print (\"    * MEDIA              : \", media_A)"
   ]
  },
  {
   "cell_type": "markdown",
   "metadata": {},
   "source": [
    "# 4)  SOLUCIÓN con DataFames\n",
    "\n",
    "La lectura con **DataFrames** es **más lenta**, pero, como contrapartida, **formatea** todos los campos del fichero de entrada (lo cual nos permite accceder y hacer cálculos con todos ellos de forma muy sencilla y variada)."
   ]
  },
  {
   "cell_type": "markdown",
   "metadata": {},
   "source": [
    "## 4.1)  LECTURA del fichero"
   ]
  },
  {
   "cell_type": "code",
   "execution_count": 6,
   "metadata": {},
   "outputs": [],
   "source": [
    "import pandas as pd\n",
    "import numpy as np"
   ]
  },
  {
   "cell_type": "code",
   "execution_count": 7,
   "metadata": {},
   "outputs": [
    {
     "data": {
      "text/plain": [
       "38.07530879974365"
      ]
     },
     "execution_count": 7,
     "metadata": {},
     "output_type": "execute_result"
    }
   ],
   "source": [
    "#\n",
    "# LECTURA_1 : \"engine\" por defecto\n",
    "#\n",
    "t_ini = time.time()\n",
    "\n",
    "df = pd.read_csv(fichero, sep=\",\")\n",
    "\n",
    "t_fin = time.time()\n",
    "\n",
    "t_LECTURA_B1 = t_fin - t_ini\n",
    "t_LECTURA_B1"
   ]
  },
  {
   "cell_type": "code",
   "execution_count": 10,
   "metadata": {},
   "outputs": [
    {
     "data": {
      "text/plain": [
       "38.787527084350586"
      ]
     },
     "execution_count": 10,
     "metadata": {},
     "output_type": "execute_result"
    }
   ],
   "source": [
    "#\n",
    "# LECTURA_2 : engine=\"c\"\n",
    "#\n",
    "t_ini = time.time()\n",
    "\n",
    "df = pd.read_csv(fichero, sep=\",\", engine=\"c\")\n",
    "\n",
    "t_fin = time.time()\n",
    "\n",
    "t_LECTURA_B2 = t_fin - t_ini\n",
    "t_LECTURA_B2"
   ]
  },
  {
   "cell_type": "markdown",
   "metadata": {},
   "source": [
    "## 4.2)  CÁLCULOS"
   ]
  },
  {
   "cell_type": "code",
   "execution_count": 11,
   "metadata": {},
   "outputs": [
    {
     "data": {
      "text/plain": [
       "(10906858, 19)"
      ]
     },
     "execution_count": 11,
     "metadata": {},
     "output_type": "execute_result"
    }
   ],
   "source": [
    "df.shape"
   ]
  },
  {
   "cell_type": "code",
   "execution_count": 12,
   "metadata": {},
   "outputs": [
    {
     "data": {
      "text/html": [
       "<div>\n",
       "<style scoped>\n",
       "    .dataframe tbody tr th:only-of-type {\n",
       "        vertical-align: middle;\n",
       "    }\n",
       "\n",
       "    .dataframe tbody tr th {\n",
       "        vertical-align: top;\n",
       "    }\n",
       "\n",
       "    .dataframe thead th {\n",
       "        text-align: right;\n",
       "    }\n",
       "</style>\n",
       "<table border=\"1\" class=\"dataframe\">\n",
       "  <thead>\n",
       "    <tr style=\"text-align: right;\">\n",
       "      <th></th>\n",
       "      <th>VendorID</th>\n",
       "      <th>tpep_pickup_datetime</th>\n",
       "      <th>tpep_dropoff_datetime</th>\n",
       "      <th>passenger_count</th>\n",
       "      <th>trip_distance</th>\n",
       "      <th>pickup_longitude</th>\n",
       "      <th>pickup_latitude</th>\n",
       "      <th>RatecodeID</th>\n",
       "      <th>store_and_fwd_flag</th>\n",
       "      <th>dropoff_longitude</th>\n",
       "      <th>dropoff_latitude</th>\n",
       "      <th>payment_type</th>\n",
       "      <th>fare_amount</th>\n",
       "      <th>extra</th>\n",
       "      <th>mta_tax</th>\n",
       "      <th>tip_amount</th>\n",
       "      <th>tolls_amount</th>\n",
       "      <th>improvement_surcharge</th>\n",
       "      <th>total_amount</th>\n",
       "    </tr>\n",
       "  </thead>\n",
       "  <tbody>\n",
       "    <tr>\n",
       "      <th>0</th>\n",
       "      <td>2</td>\n",
       "      <td>2016-01-01 00:00:00</td>\n",
       "      <td>2016-01-01 00:00:00</td>\n",
       "      <td>2</td>\n",
       "      <td>1.10</td>\n",
       "      <td>-73.990372</td>\n",
       "      <td>40.734695</td>\n",
       "      <td>1</td>\n",
       "      <td>N</td>\n",
       "      <td>-73.981842</td>\n",
       "      <td>40.732407</td>\n",
       "      <td>2</td>\n",
       "      <td>7.5</td>\n",
       "      <td>0.5</td>\n",
       "      <td>0.5</td>\n",
       "      <td>0.0</td>\n",
       "      <td>0.0</td>\n",
       "      <td>0.3</td>\n",
       "      <td>8.8</td>\n",
       "    </tr>\n",
       "    <tr>\n",
       "      <th>1</th>\n",
       "      <td>2</td>\n",
       "      <td>2016-01-01 00:00:00</td>\n",
       "      <td>2016-01-01 00:00:00</td>\n",
       "      <td>5</td>\n",
       "      <td>4.90</td>\n",
       "      <td>-73.980782</td>\n",
       "      <td>40.729912</td>\n",
       "      <td>1</td>\n",
       "      <td>N</td>\n",
       "      <td>-73.944473</td>\n",
       "      <td>40.716679</td>\n",
       "      <td>1</td>\n",
       "      <td>18.0</td>\n",
       "      <td>0.5</td>\n",
       "      <td>0.5</td>\n",
       "      <td>0.0</td>\n",
       "      <td>0.0</td>\n",
       "      <td>0.3</td>\n",
       "      <td>19.3</td>\n",
       "    </tr>\n",
       "    <tr>\n",
       "      <th>2</th>\n",
       "      <td>2</td>\n",
       "      <td>2016-01-01 00:00:00</td>\n",
       "      <td>2016-01-01 00:00:00</td>\n",
       "      <td>1</td>\n",
       "      <td>10.54</td>\n",
       "      <td>-73.984550</td>\n",
       "      <td>40.679565</td>\n",
       "      <td>1</td>\n",
       "      <td>N</td>\n",
       "      <td>-73.950272</td>\n",
       "      <td>40.788925</td>\n",
       "      <td>1</td>\n",
       "      <td>33.0</td>\n",
       "      <td>0.5</td>\n",
       "      <td>0.5</td>\n",
       "      <td>0.0</td>\n",
       "      <td>0.0</td>\n",
       "      <td>0.3</td>\n",
       "      <td>34.3</td>\n",
       "    </tr>\n",
       "    <tr>\n",
       "      <th>3</th>\n",
       "      <td>2</td>\n",
       "      <td>2016-01-01 00:00:00</td>\n",
       "      <td>2016-01-01 00:00:00</td>\n",
       "      <td>1</td>\n",
       "      <td>4.75</td>\n",
       "      <td>-73.993469</td>\n",
       "      <td>40.718990</td>\n",
       "      <td>1</td>\n",
       "      <td>N</td>\n",
       "      <td>-73.962242</td>\n",
       "      <td>40.657333</td>\n",
       "      <td>2</td>\n",
       "      <td>16.5</td>\n",
       "      <td>0.0</td>\n",
       "      <td>0.5</td>\n",
       "      <td>0.0</td>\n",
       "      <td>0.0</td>\n",
       "      <td>0.3</td>\n",
       "      <td>17.3</td>\n",
       "    </tr>\n",
       "    <tr>\n",
       "      <th>4</th>\n",
       "      <td>2</td>\n",
       "      <td>2016-01-01 00:00:00</td>\n",
       "      <td>2016-01-01 00:00:00</td>\n",
       "      <td>3</td>\n",
       "      <td>1.76</td>\n",
       "      <td>-73.960625</td>\n",
       "      <td>40.781330</td>\n",
       "      <td>1</td>\n",
       "      <td>N</td>\n",
       "      <td>-73.977264</td>\n",
       "      <td>40.758514</td>\n",
       "      <td>2</td>\n",
       "      <td>8.0</td>\n",
       "      <td>0.0</td>\n",
       "      <td>0.5</td>\n",
       "      <td>0.0</td>\n",
       "      <td>0.0</td>\n",
       "      <td>0.3</td>\n",
       "      <td>8.8</td>\n",
       "    </tr>\n",
       "  </tbody>\n",
       "</table>\n",
       "</div>"
      ],
      "text/plain": [
       "   VendorID tpep_pickup_datetime tpep_dropoff_datetime  passenger_count  \\\n",
       "0         2  2016-01-01 00:00:00   2016-01-01 00:00:00                2   \n",
       "1         2  2016-01-01 00:00:00   2016-01-01 00:00:00                5   \n",
       "2         2  2016-01-01 00:00:00   2016-01-01 00:00:00                1   \n",
       "3         2  2016-01-01 00:00:00   2016-01-01 00:00:00                1   \n",
       "4         2  2016-01-01 00:00:00   2016-01-01 00:00:00                3   \n",
       "\n",
       "   trip_distance  pickup_longitude  pickup_latitude  RatecodeID  \\\n",
       "0           1.10        -73.990372        40.734695           1   \n",
       "1           4.90        -73.980782        40.729912           1   \n",
       "2          10.54        -73.984550        40.679565           1   \n",
       "3           4.75        -73.993469        40.718990           1   \n",
       "4           1.76        -73.960625        40.781330           1   \n",
       "\n",
       "  store_and_fwd_flag  dropoff_longitude  dropoff_latitude  payment_type  \\\n",
       "0                  N         -73.981842         40.732407             2   \n",
       "1                  N         -73.944473         40.716679             1   \n",
       "2                  N         -73.950272         40.788925             1   \n",
       "3                  N         -73.962242         40.657333             2   \n",
       "4                  N         -73.977264         40.758514             2   \n",
       "\n",
       "   fare_amount  extra  mta_tax  tip_amount  tolls_amount  \\\n",
       "0          7.5    0.5      0.5         0.0           0.0   \n",
       "1         18.0    0.5      0.5         0.0           0.0   \n",
       "2         33.0    0.5      0.5         0.0           0.0   \n",
       "3         16.5    0.0      0.5         0.0           0.0   \n",
       "4          8.0    0.0      0.5         0.0           0.0   \n",
       "\n",
       "   improvement_surcharge  total_amount  \n",
       "0                    0.3           8.8  \n",
       "1                    0.3          19.3  \n",
       "2                    0.3          34.3  \n",
       "3                    0.3          17.3  \n",
       "4                    0.3           8.8  "
      ]
     },
     "execution_count": 12,
     "metadata": {},
     "output_type": "execute_result"
    }
   ],
   "source": [
    "df.head()"
   ]
  },
  {
   "cell_type": "markdown",
   "metadata": {},
   "source": [
    "### 4.2.1)  CÁLCULO : número de filas del fichero"
   ]
  },
  {
   "cell_type": "code",
   "execution_count": 13,
   "metadata": {},
   "outputs": [
    {
     "data": {
      "text/plain": [
       "0.0"
      ]
     },
     "execution_count": 13,
     "metadata": {},
     "output_type": "execute_result"
    }
   ],
   "source": [
    "t_ini = time.time()\n",
    "\n",
    "num_filas_B, num_columnas_B = df.shape\n",
    "num_lineas_B = num_filas_B + 1               # Sumamos la linea de títulos\n",
    "\n",
    "t_fin = time.time()\n",
    "\n",
    "t_NUM_LINEAS_B = t_fin - t_ini\n",
    "t_NUM_LINEAS_B"
   ]
  },
  {
   "cell_type": "markdown",
   "metadata": {},
   "source": [
    "### 4.2.2)  CÁLCULO : media del campo tip_amount"
   ]
  },
  {
   "cell_type": "code",
   "execution_count": 14,
   "metadata": {},
   "outputs": [
    {
     "data": {
      "text/plain": [
       "12.433799743652344"
      ]
     },
     "execution_count": 14,
     "metadata": {},
     "output_type": "execute_result"
    }
   ],
   "source": [
    "#\n",
    "# MÉTODO_1 : ELEMENTO de un DATAFRAME (DataFrame de ESTADÍSTICOS básicos : df.describe())\n",
    "#\n",
    "t_ini = time.time()\n",
    "\n",
    "media_B1 = df.describe() [\"tip_amount\"][\"mean\"]\n",
    "\n",
    "t_fin = time.time()\n",
    "\n",
    "t_MEDIA_B1 = t_fin - t_ini\n",
    "t_MEDIA_B1"
   ]
  },
  {
   "cell_type": "code",
   "execution_count": 15,
   "metadata": {},
   "outputs": [
    {
     "data": {
      "text/plain": [
       "0.0"
      ]
     },
     "execution_count": 15,
     "metadata": {},
     "output_type": "execute_result"
    }
   ],
   "source": [
    "#\n",
    "# MÉTODO_2 : ELEMENTO de una SERIE (Serie con las MEDIAS de las columnas del DATAFRAME : df.mean())\n",
    "#\n",
    "t_ini = time.time()\n",
    "\n",
    "# media_B2 = df.mean()[\"tip_amount\"]     *** NOTA : demasiado lento. No lo ejecutamos\n",
    "\n",
    "t_fin = time.time()\n",
    "\n",
    "t_MEDIA_B2 = t_fin - t_ini\n",
    "t_MEDIA_B2"
   ]
  },
  {
   "cell_type": "code",
   "execution_count": 16,
   "metadata": {},
   "outputs": [
    {
     "data": {
      "text/plain": [
       "0.8233590126037598"
      ]
     },
     "execution_count": 16,
     "metadata": {},
     "output_type": "execute_result"
    }
   ],
   "source": [
    "#\n",
    "# MÉTODO_3 : ELEMENTO de una SERIE (Serie con los ESTADÍSTICOS de la columna \"tip_amount\" del DATAFRAME :\n",
    "#                                   df[\"tip_amount\"].describe())\n",
    "#\n",
    "t_ini = time.time()\n",
    "\n",
    "media_B3 = ( df[\"tip_amount\"].describe() )[\"mean\"]\n",
    "\n",
    "t_fin = time.time()\n",
    "\n",
    "t_MEDIA_B3 = t_fin - t_ini\n",
    "t_MEDIA_B3"
   ]
  },
  {
   "cell_type": "code",
   "execution_count": 17,
   "metadata": {},
   "outputs": [
    {
     "data": {
      "text/plain": [
       "0.017360687255859375"
      ]
     },
     "execution_count": 17,
     "metadata": {},
     "output_type": "execute_result"
    }
   ],
   "source": [
    "#\n",
    "# MÉTODO_4 : MEDIA de los ELEMENTOS de una SERIE (Serie con los VALORES de la columna \"tip_amount\" del DATAFRAME : \n",
    "#                                                 df[\"tip_amount\"])\n",
    "#\n",
    "t_ini = time.time()\n",
    "\n",
    "media_B4 = df[\"tip_amount\"].mean()\n",
    "\n",
    "t_fin = time.time()\n",
    "\n",
    "t_MEDIA_B4 = t_fin - t_ini\n",
    "t_MEDIA_B4"
   ]
  },
  {
   "cell_type": "markdown",
   "metadata": {},
   "source": [
    "## 4.3)  RESULTADOS"
   ]
  },
  {
   "cell_type": "code",
   "execution_count": 18,
   "metadata": {},
   "outputs": [
    {
     "name": "stdout",
     "output_type": "stream",
     "text": [
      "#--------------------------------------------------------------------------\n",
      "#  SOLUCIÓN_B (con DataFrames) : \n",
      "#--------------------------------------------------------------------------\n",
      "\n",
      ">>> TIEMPOS :\n",
      "    * Tiempo total LECTURA del fichero : \n",
      "         - Cálculo con \"engine\" por defecto :  38.07530879974365\n",
      "         - Cálculo con \"engine=c\"           :  38.787527084350586\n",
      "\n",
      "    * Tiempo total cálculo NUM. LÍNEAS :  0.0\n",
      "\n",
      "    * Tiempo total cálculo MEDIA       : \n",
      "         - Cálculo con \"df.describe()\"    :  12.433799743652344\n",
      "         - Cálculo con \"df.mean()\"        :  NOTA : demasiado lento. No lo ejecutamos\n",
      "         - Cálculo con \"serie.describe()\" :  0.8233590126037598\n",
      "         - Cálculo con \"serie.mean()\"     :  0.017360687255859375\n",
      "\n",
      ">>> CÁLCULOS :\n",
      "    * Número de LÍNEAS   :  10906859\n",
      "    * Número de FILAS    :  10906858\n",
      "    * Número de COLUMNAS :  19\n",
      "    * MEDIA              : \n",
      "         - Cálculo con \"df.describe()\"    :  1.7506631158122512\n",
      "         - Cálculo con \"df.mean()\"        :  NOTA : demasiado lento. No lo ejecutamos\n",
      "         - Cálculo con \"serie.mean()\"     :  1.7506631158122512\n",
      "         - Cálculo con \"serie.describe()\" :  1.7506631158122512\n"
     ]
    }
   ],
   "source": [
    "print (\"#--------------------------------------------------------------------------\")\n",
    "print (\"#  SOLUCIÓN_B (con DataFrames) : \")\n",
    "print (\"#--------------------------------------------------------------------------\")\n",
    "print ()\n",
    "print (\">>> TIEMPOS :\")\n",
    "print (\"    * Tiempo total LECTURA del fichero : \")\n",
    "print (\"         - Cálculo con \\\"engine\\\" por defecto : \", t_LECTURA_B1)\n",
    "print (\"         - Cálculo con \\\"engine=c\\\"           : \", t_LECTURA_B2)\n",
    "print ()\n",
    "print (\"    * Tiempo total cálculo NUM. LÍNEAS : \", t_NUM_LINEAS_B)\n",
    "print ()\n",
    "print (\"    * Tiempo total cálculo MEDIA       : \")\n",
    "print (\"         - Cálculo con \\\"df.describe()\\\"    : \", t_MEDIA_B1)\n",
    "print (\"         - Cálculo con \\\"df.mean()\\\"        : \", \"NOTA : demasiado lento. No lo ejecutamos\")\n",
    "print (\"         - Cálculo con \\\"serie.describe()\\\" : \", t_MEDIA_B3)\n",
    "print (\"         - Cálculo con \\\"serie.mean()\\\"     : \", t_MEDIA_B4)\n",
    "\n",
    "\n",
    "print()\n",
    "print (\">>> CÁLCULOS :\")\n",
    "print (\"    * Número de LÍNEAS   : \", num_lineas_B)\n",
    "print (\"    * Número de FILAS    : \", num_filas_B)\n",
    "print (\"    * Número de COLUMNAS : \", num_columnas_B)\n",
    "print (\"    * MEDIA              : \")\n",
    "print (\"         - Cálculo con \\\"df.describe()\\\"    : \", media_B1)\n",
    "print (\"         - Cálculo con \\\"df.mean()\\\"        : \", \"NOTA : demasiado lento. No lo ejecutamos\")\n",
    "print (\"         - Cálculo con \\\"serie.mean()\\\"     : \", media_B3)\n",
    "print (\"         - Cálculo con \\\"serie.describe()\\\" : \", media_B4)\n"
   ]
  },
  {
   "cell_type": "markdown",
   "metadata": {},
   "source": [
    "## 4.4)  OBSERVACIONES FINALES"
   ]
  },
  {
   "cell_type": "markdown",
   "metadata": {},
   "source": [
    "### 4.4.1)  OBSERVACIÓN_1 : lectura de un subconjunto de columnas del DataFrame\n",
    "\n",
    "Si no se pidiese leer el fichero CSV **completo**, todos los cálculos se podrían hacer (y serían más rápidos) leyendo **sólo la columna** del DataFrame que nos interesa (**\"tip_amount\"**) :"
   ]
  },
  {
   "cell_type": "markdown",
   "metadata": {},
   "source": [
    "#### 1) Seleccionar la COLUMNA \"tip_amount\""
   ]
  },
  {
   "cell_type": "code",
   "execution_count": 19,
   "metadata": {},
   "outputs": [
    {
     "data": {
      "text/plain": [
       "10.762747049331665"
      ]
     },
     "execution_count": 19,
     "metadata": {},
     "output_type": "execute_result"
    }
   ],
   "source": [
    "#\n",
    "# LECTURA_PARCIAL : leemos sólo la columna que nos interesa (\"tip_amount\")\n",
    "#\n",
    "t_ini = time.time()\n",
    "\n",
    "df_parcial = pd.read_csv(fichero, sep=\",\", usecols = [\"tip_amount\"])\n",
    "\n",
    "\n",
    "t_fin = time.time()\n",
    "\n",
    "t_LECTURA_PARCIAL = t_fin - t_ini\n",
    "t_LECTURA_PARCIAL"
   ]
  },
  {
   "cell_type": "code",
   "execution_count": 20,
   "metadata": {},
   "outputs": [
    {
     "data": {
      "text/plain": [
       "(10906858, 1)"
      ]
     },
     "execution_count": 20,
     "metadata": {},
     "output_type": "execute_result"
    }
   ],
   "source": [
    "df_parcial.shape"
   ]
  },
  {
   "cell_type": "code",
   "execution_count": 21,
   "metadata": {},
   "outputs": [
    {
     "data": {
      "text/html": [
       "<div>\n",
       "<style scoped>\n",
       "    .dataframe tbody tr th:only-of-type {\n",
       "        vertical-align: middle;\n",
       "    }\n",
       "\n",
       "    .dataframe tbody tr th {\n",
       "        vertical-align: top;\n",
       "    }\n",
       "\n",
       "    .dataframe thead th {\n",
       "        text-align: right;\n",
       "    }\n",
       "</style>\n",
       "<table border=\"1\" class=\"dataframe\">\n",
       "  <thead>\n",
       "    <tr style=\"text-align: right;\">\n",
       "      <th></th>\n",
       "      <th>tip_amount</th>\n",
       "    </tr>\n",
       "  </thead>\n",
       "  <tbody>\n",
       "    <tr>\n",
       "      <th>0</th>\n",
       "      <td>0.0</td>\n",
       "    </tr>\n",
       "    <tr>\n",
       "      <th>1</th>\n",
       "      <td>0.0</td>\n",
       "    </tr>\n",
       "    <tr>\n",
       "      <th>2</th>\n",
       "      <td>0.0</td>\n",
       "    </tr>\n",
       "    <tr>\n",
       "      <th>3</th>\n",
       "      <td>0.0</td>\n",
       "    </tr>\n",
       "    <tr>\n",
       "      <th>4</th>\n",
       "      <td>0.0</td>\n",
       "    </tr>\n",
       "  </tbody>\n",
       "</table>\n",
       "</div>"
      ],
      "text/plain": [
       "   tip_amount\n",
       "0         0.0\n",
       "1         0.0\n",
       "2         0.0\n",
       "3         0.0\n",
       "4         0.0"
      ]
     },
     "execution_count": 21,
     "metadata": {},
     "output_type": "execute_result"
    }
   ],
   "source": [
    "df_parcial.head()"
   ]
  },
  {
   "cell_type": "markdown",
   "metadata": {},
   "source": [
    "#### 2) CALCULAR `df.describe()`"
   ]
  },
  {
   "cell_type": "code",
   "execution_count": 22,
   "metadata": {},
   "outputs": [
    {
     "data": {
      "text/html": [
       "<div>\n",
       "<style scoped>\n",
       "    .dataframe tbody tr th:only-of-type {\n",
       "        vertical-align: middle;\n",
       "    }\n",
       "\n",
       "    .dataframe tbody tr th {\n",
       "        vertical-align: top;\n",
       "    }\n",
       "\n",
       "    .dataframe thead th {\n",
       "        text-align: right;\n",
       "    }\n",
       "</style>\n",
       "<table border=\"1\" class=\"dataframe\">\n",
       "  <thead>\n",
       "    <tr style=\"text-align: right;\">\n",
       "      <th></th>\n",
       "      <th>tip_amount</th>\n",
       "    </tr>\n",
       "  </thead>\n",
       "  <tbody>\n",
       "    <tr>\n",
       "      <th>count</th>\n",
       "      <td>1.090686e+07</td>\n",
       "    </tr>\n",
       "    <tr>\n",
       "      <th>mean</th>\n",
       "      <td>1.750663e+00</td>\n",
       "    </tr>\n",
       "    <tr>\n",
       "      <th>std</th>\n",
       "      <td>2.623546e+00</td>\n",
       "    </tr>\n",
       "    <tr>\n",
       "      <th>min</th>\n",
       "      <td>-2.208000e+02</td>\n",
       "    </tr>\n",
       "    <tr>\n",
       "      <th>25%</th>\n",
       "      <td>0.000000e+00</td>\n",
       "    </tr>\n",
       "    <tr>\n",
       "      <th>50%</th>\n",
       "      <td>1.260000e+00</td>\n",
       "    </tr>\n",
       "    <tr>\n",
       "      <th>75%</th>\n",
       "      <td>2.320000e+00</td>\n",
       "    </tr>\n",
       "    <tr>\n",
       "      <th>max</th>\n",
       "      <td>9.981400e+02</td>\n",
       "    </tr>\n",
       "  </tbody>\n",
       "</table>\n",
       "</div>"
      ],
      "text/plain": [
       "         tip_amount\n",
       "count  1.090686e+07\n",
       "mean   1.750663e+00\n",
       "std    2.623546e+00\n",
       "min   -2.208000e+02\n",
       "25%    0.000000e+00\n",
       "50%    1.260000e+00\n",
       "75%    2.320000e+00\n",
       "max    9.981400e+02"
      ]
     },
     "execution_count": 22,
     "metadata": {},
     "output_type": "execute_result"
    }
   ],
   "source": [
    "df_parcial.describe()     # DATAFRAME con los ESTADÍSTICOS básicos"
   ]
  },
  {
   "cell_type": "markdown",
   "metadata": {},
   "source": [
    "#### 3) CALCULAR `df.mean()`"
   ]
  },
  {
   "cell_type": "code",
   "execution_count": 23,
   "metadata": {},
   "outputs": [
    {
     "data": {
      "text/plain": [
       "tip_amount    1.750663\n",
       "dtype: float64"
      ]
     },
     "execution_count": 23,
     "metadata": {},
     "output_type": "execute_result"
    }
   ],
   "source": [
    "df_parcial.mean()         # SERIE con las MEDIAS de las columnas del DATAFRAME"
   ]
  },
  {
   "cell_type": "markdown",
   "metadata": {},
   "source": [
    "#### 4) Comparar RESULTADOS"
   ]
  },
  {
   "cell_type": "code",
   "execution_count": 24,
   "metadata": {},
   "outputs": [
    {
     "name": "stdout",
     "output_type": "stream",
     "text": [
      "Wall time: 877 ms\n"
     ]
    },
    {
     "data": {
      "text/plain": [
       "1.7506631158122512"
      ]
     },
     "execution_count": 24,
     "metadata": {},
     "output_type": "execute_result"
    }
   ],
   "source": [
    "%time   df_parcial.describe() [\"tip_amount\"][\"mean\"]    # MÉTODO_1 : ELEMENTO de un DATAFRAME"
   ]
  },
  {
   "cell_type": "code",
   "execution_count": 25,
   "metadata": {},
   "outputs": [
    {
     "name": "stdout",
     "output_type": "stream",
     "text": [
      "Wall time: 18.4 ms\n"
     ]
    },
    {
     "data": {
      "text/plain": [
       "1.7506631158122512"
      ]
     },
     "execution_count": 25,
     "metadata": {},
     "output_type": "execute_result"
    }
   ],
   "source": [
    "%time   df_parcial.mean()[\"tip_amount\"]                 # MÉTODO_2 : ELEMENTO de una SERIE"
   ]
  },
  {
   "cell_type": "code",
   "execution_count": 26,
   "metadata": {},
   "outputs": [
    {
     "name": "stdout",
     "output_type": "stream",
     "text": [
      "Wall time: 821 ms\n"
     ]
    },
    {
     "data": {
      "text/plain": [
       "1.7506631158122512"
      ]
     },
     "execution_count": 26,
     "metadata": {},
     "output_type": "execute_result"
    }
   ],
   "source": [
    "%time   df_parcial[\"tip_amount\"].describe()[\"mean\"]     # MÉTODO_3 : ELEMENTO de una SERIE"
   ]
  },
  {
   "cell_type": "code",
   "execution_count": 27,
   "metadata": {},
   "outputs": [
    {
     "name": "stdout",
     "output_type": "stream",
     "text": [
      "Wall time: 16.4 ms\n"
     ]
    },
    {
     "data": {
      "text/plain": [
       "1.7506631158122512"
      ]
     },
     "execution_count": 27,
     "metadata": {},
     "output_type": "execute_result"
    }
   ],
   "source": [
    "%time   df_parcial[\"tip_amount\"].mean()                 # MÉTODO_4 : MEDIA de los ELEMENTOS de una SERIE"
   ]
  },
  {
   "cell_type": "markdown",
   "metadata": {},
   "source": [
    "** NOTA :** nótese que con la **lectura parcial** (=> sólo la columna **\"tip_amount\"**), el **MÉTODO_2** ya no se eterniza, sino que es **muy rápido**. **¿ Por qué ?** :\n",
    "\n",
    "   1. Por un lado, en el DataFrame completo hay **columnas** de **tipo fecha** (cuando son sólo columnas de **tipo numérico**, como es ahora nuestro caso, todo funciona y es **mucho más rápido**).\n",
    "   2. Por otro lado, parece que `df.describe()` y `df.mean()` tratan de forma **distinta** los campos de **tipo fecha** (`df.mean()` debe hacer algún tipo de conversión rara con las columnas de **tipo fecha** (ver apartado siguiente)."
   ]
  },
  {
   "cell_type": "markdown",
   "metadata": {},
   "source": [
    "### 4.4.2)  OBSERVACIÓN_2 : `df.describe()` versus `df.mean()`\n",
    "\n",
    "A priori, dado que `df.describe()` calcula **más datos** que `df.mean()` (calcula también la media - mean - y más estadísticos), uno tiende a pensar que `df.mean()` debería ser **más rápido** que `df.describe()`, pero en el caso particular de nuestro DataFrame **completo**, hemos comprobado que no ha sido así (el MÉTODO_2 tarda muchísimo más que el MÉTODO_1).\n",
    "\n",
    "El problema está en las **columnas** de **tipo fecha**. Según las pruebas siguientes, parece que `df.describe()` y `df.mean()` tratan de forma **distinta** las columnas de **tipo fecha** (`df.mean()` debe hacer algún tipo de conversión rara con los campos de **tipo fecha** y por eso tarda tantísimo)."
   ]
  },
  {
   "cell_type": "markdown",
   "metadata": {},
   "source": [
    "#### 1) Seleccionar COLUMNAS"
   ]
  },
  {
   "cell_type": "markdown",
   "metadata": {},
   "source": [
    "Para las pruebas escogemos un **fichero menos voluminoso** (escogemos sólo \"n\" filas del fichero de partida) :"
   ]
  },
  {
   "cell_type": "code",
   "execution_count": 28,
   "metadata": {},
   "outputs": [
    {
     "data": {
      "text/plain": [
       "(55000, 19)"
      ]
     },
     "execution_count": 28,
     "metadata": {},
     "output_type": "execute_result"
    }
   ],
   "source": [
    "df = pd.read_csv(fichero, sep=\",\", nrows = 55000)   # Seleccionamos sólo 55.000 líneas del fichero\n",
    "df.shape"
   ]
  },
  {
   "cell_type": "markdown",
   "metadata": {},
   "source": [
    "Analizamos y agrupamos las **columnas** del DataFrame según su **tipo de datos** :"
   ]
  },
  {
   "cell_type": "code",
   "execution_count": 29,
   "metadata": {},
   "outputs": [
    {
     "data": {
      "text/plain": [
       "array(['VendorID', 'tpep_pickup_datetime', 'tpep_dropoff_datetime',\n",
       "       'passenger_count', 'trip_distance', 'pickup_longitude',\n",
       "       'pickup_latitude', 'RatecodeID', 'store_and_fwd_flag',\n",
       "       'dropoff_longitude', 'dropoff_latitude', 'payment_type',\n",
       "       'fare_amount', 'extra', 'mta_tax', 'tip_amount', 'tolls_amount',\n",
       "       'improvement_surcharge', 'total_amount'], dtype=object)"
      ]
     },
     "execution_count": 29,
     "metadata": {},
     "output_type": "execute_result"
    }
   ],
   "source": [
    "columnas = np.array(df.columns)   # Seleccionamos TODAS las columnas del DataFrame\n",
    "columnas"
   ]
  },
  {
   "cell_type": "code",
   "execution_count": 30,
   "metadata": {},
   "outputs": [
    {
     "data": {
      "text/plain": [
       "17"
      ]
     },
     "execution_count": 30,
     "metadata": {},
     "output_type": "execute_result"
    }
   ],
   "source": [
    "columnas_no_fecha = columnas[(columnas != \"tpep_pickup_datetime\")&\n",
    "                             (columnas != \"tpep_dropoff_datetime\")]     # Seleccionamos las columnas NO de tipo FECHA\n",
    "len(columnas_no_fecha)"
   ]
  },
  {
   "cell_type": "code",
   "execution_count": 31,
   "metadata": {},
   "outputs": [
    {
     "data": {
      "text/plain": [
       "18"
      ]
     },
     "execution_count": 31,
     "metadata": {},
     "output_type": "execute_result"
    }
   ],
   "source": [
    "columnas_no_string = columnas[ columnas != \"store_and_fwd_flag\"]        # Seleccionamos las columnas NO de tipo STRING\n",
    "len(columnas_no_string)"
   ]
  },
  {
   "cell_type": "code",
   "execution_count": 32,
   "metadata": {},
   "outputs": [
    {
     "data": {
      "text/plain": [
       "16"
      ]
     },
     "execution_count": 32,
     "metadata": {},
     "output_type": "execute_result"
    }
   ],
   "source": [
    "columnas_numericas = columnas[(columnas != \"tpep_pickup_datetime\")  &\n",
    "                              (columnas != \"tpep_dropoff_datetime\") &\n",
    "                              (columnas != \"store_and_fwd_flag\")    ]   # Seleccionamos las columnas de tipo NUMÉRICO\n",
    "len(columnas_numericas)"
   ]
  },
  {
   "cell_type": "code",
   "execution_count": 33,
   "metadata": {},
   "outputs": [
    {
     "data": {
      "text/plain": [
       "(55000, 17)"
      ]
     },
     "execution_count": 33,
     "metadata": {},
     "output_type": "execute_result"
    }
   ],
   "source": [
    "df_no_date = df[columnas_no_fecha]   # Eliminamos del DataFrame las columnas de tipo FECHA\n",
    "df_no_date.shape"
   ]
  },
  {
   "cell_type": "code",
   "execution_count": 34,
   "metadata": {},
   "outputs": [
    {
     "data": {
      "text/plain": [
       "(55000, 18)"
      ]
     },
     "execution_count": 34,
     "metadata": {},
     "output_type": "execute_result"
    }
   ],
   "source": [
    "df_no_str = df[columnas_no_string]   # Eliminamos del DataFrame las columnas de tipo STRING\n",
    "df_no_str.shape"
   ]
  },
  {
   "cell_type": "code",
   "execution_count": 35,
   "metadata": {},
   "outputs": [
    {
     "data": {
      "text/plain": [
       "(55000, 16)"
      ]
     },
     "execution_count": 35,
     "metadata": {},
     "output_type": "execute_result"
    }
   ],
   "source": [
    "df_num = df[columnas_numericas]      # Eliminamos del DataFrame las columnas NO NUMÉRICAS\n",
    "df_num.shape"
   ]
  },
  {
   "cell_type": "markdown",
   "metadata": {},
   "source": [
    "#### 2) Calcular TIEMPOS con  `df.describe()`"
   ]
  },
  {
   "cell_type": "code",
   "execution_count": 36,
   "metadata": {},
   "outputs": [
    {
     "name": "stdout",
     "output_type": "stream",
     "text": [
      "(8, 16)\n",
      "Wall time: 189 ms\n"
     ]
    }
   ],
   "source": [
    "%time   df.describe()         ; print (df.describe().shape)           # TODAS las columnas"
   ]
  },
  {
   "cell_type": "code",
   "execution_count": 37,
   "metadata": {},
   "outputs": [
    {
     "name": "stdout",
     "output_type": "stream",
     "text": [
      "(8, 16)\n",
      "Wall time: 190 ms\n"
     ]
    }
   ],
   "source": [
    "%time   df_no_date.describe() ; print (df_no_date.describe().shape)   # SIN las columnas de tipo FECHA"
   ]
  },
  {
   "cell_type": "code",
   "execution_count": 38,
   "metadata": {},
   "outputs": [
    {
     "name": "stdout",
     "output_type": "stream",
     "text": [
      "(8, 16)\n",
      "Wall time: 210 ms\n"
     ]
    }
   ],
   "source": [
    "%time   df_no_str.describe()  ; print (df_no_str.describe().shape)    # SIN las columnas de tipo STRING"
   ]
  },
  {
   "cell_type": "code",
   "execution_count": 39,
   "metadata": {},
   "outputs": [
    {
     "name": "stdout",
     "output_type": "stream",
     "text": [
      "(8, 16)\n",
      "Wall time: 194 ms\n"
     ]
    }
   ],
   "source": [
    "%time   df_num.describe()     ; print (df_num.describe().shape)       # SÓLO las columnas de tipo NUMÉRICO"
   ]
  },
  {
   "cell_type": "markdown",
   "metadata": {},
   "source": [
    "#### 3) Calcular TIEMPOS con `df.mean()`"
   ]
  },
  {
   "cell_type": "code",
   "execution_count": 40,
   "metadata": {},
   "outputs": [
    {
     "name": "stdout",
     "output_type": "stream",
     "text": [
      "(16,)\n",
      "Wall time: 56.1 s\n"
     ]
    }
   ],
   "source": [
    "%time   df.mean()         ; print (df.mean().shape)                   # TODAS las columnas"
   ]
  },
  {
   "cell_type": "code",
   "execution_count": 41,
   "metadata": {},
   "outputs": [
    {
     "name": "stdout",
     "output_type": "stream",
     "text": [
      "(16,)\n",
      "Wall time: 777 ms\n"
     ]
    }
   ],
   "source": [
    "%time   df_no_date.mean() ; print (df_no_date.mean().shape)           # SIN las columnas de tipo FECHA"
   ]
  },
  {
   "cell_type": "code",
   "execution_count": 42,
   "metadata": {},
   "outputs": [
    {
     "name": "stdout",
     "output_type": "stream",
     "text": [
      "(16,)\n",
      "Wall time: 51 s\n"
     ]
    }
   ],
   "source": [
    "%time   df_no_str.mean()  ; print (df_no_str.mean().shape)            # SIN las columnas de tipo STRING"
   ]
  },
  {
   "cell_type": "code",
   "execution_count": 43,
   "metadata": {},
   "outputs": [
    {
     "name": "stdout",
     "output_type": "stream",
     "text": [
      "(16,)\n",
      "Wall time: 14.4 ms\n"
     ]
    }
   ],
   "source": [
    "%time   df_num.mean()     ; print (df_num.mean().shape)               # SÓLO las columnas de tipo NUMÉRICO"
   ]
  },
  {
   "cell_type": "markdown",
   "metadata": {},
   "source": [
    "#### 4) CONCLUSIONES"
   ]
  },
  {
   "cell_type": "markdown",
   "metadata": {},
   "source": [
    "A la vista de los **tiempos de ejecución** se observa que :\n",
    "\n",
    "1. Con columnas de **tipo fecha** `df.describe()` es mucho **más rápido** que `df.mean()`.\n",
    "2. Con columnas de **tipo string** `df.describe()` es **más rápido** que `df.mean()`.\n",
    "3. Con columnas **sólo numéricas** `df.describe()` es **más lento** que `df.mean()`.\n",
    "\n",
    "Así pues, el problema de `df.mean()` está en las columnas de **tipo fecha** (y, en menor medida, en las columnas de **tipo string**)."
   ]
  },
  {
   "cell_type": "markdown",
   "metadata": {},
   "source": [
    "# FIN"
   ]
  }
 ],
 "metadata": {
  "kernelspec": {
   "display_name": "Python 3",
   "language": "python",
   "name": "python3"
  },
  "language_info": {
   "codemirror_mode": {
    "name": "ipython",
    "version": 3
   },
   "file_extension": ".py",
   "mimetype": "text/x-python",
   "name": "python",
   "nbconvert_exporter": "python",
   "pygments_lexer": "ipython3",
   "version": "3.6.5"
  }
 },
 "nbformat": 4,
 "nbformat_minor": 2
}
